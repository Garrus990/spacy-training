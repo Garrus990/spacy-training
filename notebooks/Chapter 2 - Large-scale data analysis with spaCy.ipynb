{
 "cells": [
  {
   "cell_type": "markdown",
   "id": "a428f5e4-48e1-4b15-873d-379c41f36de4",
   "metadata": {},
   "source": [
    "# Data structures"
   ]
  },
  {
   "cell_type": "markdown",
   "id": "7276f913-c900-432f-b24d-0674d53d2722",
   "metadata": {},
   "source": [
    "### Shared vocab and string store"
   ]
  },
  {
   "cell_type": "markdown",
   "id": "3aef05b6-a276-451a-9eb1-e9201ff278b4",
   "metadata": {},
   "source": [
    "- `Vocab`: stores data shared across multiple documents\n",
    "- To save memory, spaCy encodes all strings to **hash values**\n",
    "- Strings are only stored once in the `StringStore` via `nlp.vocab.strings`\n",
    "- String store: **lookup table** in both directions"
   ]
  },
  {
   "cell_type": "code",
   "execution_count": 1,
   "id": "6799d55c-03b1-4dd4-a5ed-1c00a9657e80",
   "metadata": {},
   "outputs": [],
   "source": [
    "import spacy\n",
    "nlp = spacy.blank(\"en\")"
   ]
  },
  {
   "cell_type": "code",
   "execution_count": 2,
   "id": "6af62e05-cabf-4053-b43b-dcbcc8df0f08",
   "metadata": {},
   "outputs": [],
   "source": [
    "nlp.vocab.strings.add(\"coffee\")\n",
    "coffee_hash = nlp.vocab.strings[\"coffee\"]\n",
    "coffee_string = nlp.vocab.strings[coffee_hash]"
   ]
  },
  {
   "cell_type": "code",
   "execution_count": 3,
   "id": "af0b725e-5515-4d74-9481-6f5a81fcda2d",
   "metadata": {},
   "outputs": [
    {
     "data": {
      "text/plain": [
       "3197928453018144401"
      ]
     },
     "execution_count": 3,
     "metadata": {},
     "output_type": "execute_result"
    }
   ],
   "source": [
    "coffee_hash"
   ]
  },
  {
   "cell_type": "code",
   "execution_count": 4,
   "id": "c5031fb3-a127-4bdf-9105-d9701d887b0e",
   "metadata": {},
   "outputs": [
    {
     "data": {
      "text/plain": [
       "'coffee'"
      ]
     },
     "execution_count": 4,
     "metadata": {},
     "output_type": "execute_result"
    }
   ],
   "source": [
    "coffee_string"
   ]
  },
  {
   "cell_type": "code",
   "execution_count": 5,
   "id": "365b316e-1a90-4085-9105-f9e155c91c4c",
   "metadata": {},
   "outputs": [
    {
     "name": "stdout",
     "output_type": "stream",
     "text": [
      "hash value: 3197928453018144401\n",
      "string value: coffee\n"
     ]
    }
   ],
   "source": [
    "doc = nlp(\"I love coffee\")\n",
    "print(\"hash value:\", nlp.vocab.strings[\"coffee\"])\n",
    "print(\"string value:\", nlp.vocab.strings[3197928453018144401])"
   ]
  },
  {
   "cell_type": "markdown",
   "id": "5456f9fe-5c8b-4501-9967-7e3b17c5f5ad",
   "metadata": {},
   "source": [
    "The `doc` also exposes the vocab and strings."
   ]
  },
  {
   "cell_type": "code",
   "execution_count": 6,
   "id": "ba7b1aaa-e930-4a41-92c4-fb21b378473a",
   "metadata": {},
   "outputs": [
    {
     "name": "stdout",
     "output_type": "stream",
     "text": [
      "hash value: 3197928453018144401\n"
     ]
    }
   ],
   "source": [
    "doc = nlp(\"I love coffee\")\n",
    "print(\"hash value:\", doc.vocab.strings[\"coffee\"])"
   ]
  },
  {
   "cell_type": "markdown",
   "id": "c3e2be5a-a0c9-4301-b0c7-6b48f39ad29b",
   "metadata": {},
   "source": [
    "### Lexemes: entries in the vocabulary"
   ]
  },
  {
   "cell_type": "markdown",
   "id": "04c5e903-9f53-4186-8e21-692e40496dc6",
   "metadata": {},
   "source": [
    "A `Lexeme` object is an entry in the vocabulary"
   ]
  },
  {
   "cell_type": "code",
   "execution_count": 7,
   "id": "2673fd68-e942-44f4-876e-d3310dfd72b5",
   "metadata": {},
   "outputs": [
    {
     "name": "stdout",
     "output_type": "stream",
     "text": [
      "coffee 3197928453018144401 True\n"
     ]
    }
   ],
   "source": [
    "doc = nlp(\"I love coffee\")\n",
    "lexeme = nlp.vocab[\"coffee\"]\n",
    "\n",
    "# Print the lexical attributes\n",
    "print(lexeme.text, lexeme.orth, lexeme.is_alpha)"
   ]
  },
  {
   "cell_type": "markdown",
   "id": "767f9f72-6096-4497-99ea-690d07d7037c",
   "metadata": {},
   "source": [
    "### The Doc object"
   ]
  },
  {
   "cell_type": "markdown",
   "id": "cd1d8d08-e5d3-42ce-a28a-3c10ee7d53b9",
   "metadata": {},
   "source": [
    "Here we're creating a doc from three words. The spaces are a list of boolean values indicating whether the word is followed by a space. Every token includes that information – even the last one!"
   ]
  },
  {
   "cell_type": "code",
   "execution_count": 8,
   "id": "ccf85109-8220-48bd-b628-1cdf68ced7dc",
   "metadata": {},
   "outputs": [],
   "source": [
    "# Create an nlp object\n",
    "import spacy\n",
    "nlp = spacy.blank(\"en\")\n",
    "\n",
    "# Import the Doc class\n",
    "from spacy.tokens import Doc\n",
    "\n",
    "# The words and spaces to create the doc from\n",
    "words = [\"Hello\", \"world\", \"!\"]\n",
    "spaces = [True, False, False]\n",
    "\n",
    "# Create a doc manually\n",
    "doc = Doc(nlp.vocab, words=words, spaces=spaces)"
   ]
  },
  {
   "cell_type": "markdown",
   "id": "1f1cc4bc-bcb4-4d5c-95f9-ae3253ee8c1d",
   "metadata": {},
   "source": [
    "### The Spam object"
   ]
  },
  {
   "cell_type": "code",
   "execution_count": 9,
   "id": "32757469-8498-40de-bd7f-f8645cf39f95",
   "metadata": {},
   "outputs": [],
   "source": [
    "# Import the Doc and Span classes\n",
    "from spacy.tokens import Doc, Span\n",
    "\n",
    "# The words and spaces to create the doc from\n",
    "words = [\"Hello\", \"world\", \"!\"]\n",
    "spaces = [True, False, False]\n",
    "\n",
    "# Create a doc manually\n",
    "doc = Doc(nlp.vocab, words=words, spaces=spaces)\n",
    "\n",
    "# Create a span manually\n",
    "span = Span(doc, 0, 2)\n",
    "\n",
    "# Create a span with a label\n",
    "span_with_label = Span(doc, 0, 2, label=\"GREETING\")\n",
    "\n",
    "# Add span to the doc.ents\n",
    "doc.ents = [span_with_label]"
   ]
  },
  {
   "cell_type": "markdown",
   "id": "18493b5b-f3f1-4b47-820e-c0b34abe2f2f",
   "metadata": {},
   "source": [
    "### Word vectors and semantic similarity"
   ]
  },
  {
   "cell_type": "markdown",
   "id": "0956346e-c0e6-47e2-8149-4285ac59f998",
   "metadata": {},
   "source": [
    "To get word vectors we need at least medium vocabulary (>40 MB data)!"
   ]
  },
  {
   "cell_type": "code",
   "execution_count": 11,
   "id": "58681e6e-9caa-450e-83d9-2ec65e1a1502",
   "metadata": {},
   "outputs": [
    {
     "name": "stdout",
     "output_type": "stream",
     "text": [
      "Collecting en-core-web-md==3.4.0\n",
      "  Downloading https://github.com/explosion/spacy-models/releases/download/en_core_web_md-3.4.0/en_core_web_md-3.4.0-py3-none-any.whl (42.8 MB)\n",
      "\u001b[2K     \u001b[38;2;114;156;31m━━━━━━━━━━━━━━━━━━━━━━━━━━━━━━━━━━━━━━━━\u001b[0m \u001b[32m42.8/42.8 MB\u001b[0m \u001b[31m15.3 MB/s\u001b[0m eta \u001b[36m0:00:00\u001b[0mm eta \u001b[36m0:00:01\u001b[0m0:01\u001b[0m:01\u001b[0m\n",
      "\u001b[?25hRequirement already satisfied: spacy<3.5.0,>=3.4.0 in /home/szymon/.cache/pypoetry/virtualenvs/spacy-tutorial-yidMBhfH-py3.9/lib/python3.9/site-packages (from en-core-web-md==3.4.0) (3.4.1)\n",
      "Requirement already satisfied: jinja2 in /home/szymon/.cache/pypoetry/virtualenvs/spacy-tutorial-yidMBhfH-py3.9/lib/python3.9/site-packages (from spacy<3.5.0,>=3.4.0->en-core-web-md==3.4.0) (3.1.2)\n",
      "Requirement already satisfied: langcodes<4.0.0,>=3.2.0 in /home/szymon/.cache/pypoetry/virtualenvs/spacy-tutorial-yidMBhfH-py3.9/lib/python3.9/site-packages (from spacy<3.5.0,>=3.4.0->en-core-web-md==3.4.0) (3.3.0)\n",
      "Requirement already satisfied: cymem<2.1.0,>=2.0.2 in /home/szymon/.cache/pypoetry/virtualenvs/spacy-tutorial-yidMBhfH-py3.9/lib/python3.9/site-packages (from spacy<3.5.0,>=3.4.0->en-core-web-md==3.4.0) (2.0.6)\n",
      "Requirement already satisfied: tqdm<5.0.0,>=4.38.0 in /home/szymon/.cache/pypoetry/virtualenvs/spacy-tutorial-yidMBhfH-py3.9/lib/python3.9/site-packages (from spacy<3.5.0,>=3.4.0->en-core-web-md==3.4.0) (4.64.0)\n",
      "Requirement already satisfied: packaging>=20.0 in /home/szymon/.cache/pypoetry/virtualenvs/spacy-tutorial-yidMBhfH-py3.9/lib/python3.9/site-packages (from spacy<3.5.0,>=3.4.0->en-core-web-md==3.4.0) (21.3)\n",
      "Requirement already satisfied: catalogue<2.1.0,>=2.0.6 in /home/szymon/.cache/pypoetry/virtualenvs/spacy-tutorial-yidMBhfH-py3.9/lib/python3.9/site-packages (from spacy<3.5.0,>=3.4.0->en-core-web-md==3.4.0) (2.0.8)\n",
      "Requirement already satisfied: thinc<8.2.0,>=8.1.0 in /home/szymon/.cache/pypoetry/virtualenvs/spacy-tutorial-yidMBhfH-py3.9/lib/python3.9/site-packages (from spacy<3.5.0,>=3.4.0->en-core-web-md==3.4.0) (8.1.0)\n",
      "Requirement already satisfied: pydantic!=1.8,!=1.8.1,<1.10.0,>=1.7.4 in /home/szymon/.cache/pypoetry/virtualenvs/spacy-tutorial-yidMBhfH-py3.9/lib/python3.9/site-packages (from spacy<3.5.0,>=3.4.0->en-core-web-md==3.4.0) (1.9.2)\n",
      "Requirement already satisfied: preshed<3.1.0,>=3.0.2 in /home/szymon/.cache/pypoetry/virtualenvs/spacy-tutorial-yidMBhfH-py3.9/lib/python3.9/site-packages (from spacy<3.5.0,>=3.4.0->en-core-web-md==3.4.0) (3.0.7)\n",
      "Requirement already satisfied: setuptools in /home/szymon/.cache/pypoetry/virtualenvs/spacy-tutorial-yidMBhfH-py3.9/lib/python3.9/site-packages (from spacy<3.5.0,>=3.4.0->en-core-web-md==3.4.0) (62.2.0)\n",
      "Requirement already satisfied: spacy-loggers<2.0.0,>=1.0.0 in /home/szymon/.cache/pypoetry/virtualenvs/spacy-tutorial-yidMBhfH-py3.9/lib/python3.9/site-packages (from spacy<3.5.0,>=3.4.0->en-core-web-md==3.4.0) (1.0.3)\n",
      "Requirement already satisfied: murmurhash<1.1.0,>=0.28.0 in /home/szymon/.cache/pypoetry/virtualenvs/spacy-tutorial-yidMBhfH-py3.9/lib/python3.9/site-packages (from spacy<3.5.0,>=3.4.0->en-core-web-md==3.4.0) (1.0.8)\n",
      "Requirement already satisfied: requests<3.0.0,>=2.13.0 in /home/szymon/.cache/pypoetry/virtualenvs/spacy-tutorial-yidMBhfH-py3.9/lib/python3.9/site-packages (from spacy<3.5.0,>=3.4.0->en-core-web-md==3.4.0) (2.28.1)\n",
      "Requirement already satisfied: spacy-legacy<3.1.0,>=3.0.9 in /home/szymon/.cache/pypoetry/virtualenvs/spacy-tutorial-yidMBhfH-py3.9/lib/python3.9/site-packages (from spacy<3.5.0,>=3.4.0->en-core-web-md==3.4.0) (3.0.10)\n",
      "Requirement already satisfied: srsly<3.0.0,>=2.4.3 in /home/szymon/.cache/pypoetry/virtualenvs/spacy-tutorial-yidMBhfH-py3.9/lib/python3.9/site-packages (from spacy<3.5.0,>=3.4.0->en-core-web-md==3.4.0) (2.4.4)\n",
      "Requirement already satisfied: typer<0.5.0,>=0.3.0 in /home/szymon/.cache/pypoetry/virtualenvs/spacy-tutorial-yidMBhfH-py3.9/lib/python3.9/site-packages (from spacy<3.5.0,>=3.4.0->en-core-web-md==3.4.0) (0.4.2)\n",
      "Requirement already satisfied: wasabi<1.1.0,>=0.9.1 in /home/szymon/.cache/pypoetry/virtualenvs/spacy-tutorial-yidMBhfH-py3.9/lib/python3.9/site-packages (from spacy<3.5.0,>=3.4.0->en-core-web-md==3.4.0) (0.10.1)\n",
      "Requirement already satisfied: pathy>=0.3.5 in /home/szymon/.cache/pypoetry/virtualenvs/spacy-tutorial-yidMBhfH-py3.9/lib/python3.9/site-packages (from spacy<3.5.0,>=3.4.0->en-core-web-md==3.4.0) (0.6.2)\n",
      "Requirement already satisfied: numpy>=1.15.0 in /home/szymon/.cache/pypoetry/virtualenvs/spacy-tutorial-yidMBhfH-py3.9/lib/python3.9/site-packages (from spacy<3.5.0,>=3.4.0->en-core-web-md==3.4.0) (1.23.2)\n",
      "Requirement already satisfied: pyparsing!=3.0.5,>=2.0.2 in /home/szymon/.cache/pypoetry/virtualenvs/spacy-tutorial-yidMBhfH-py3.9/lib/python3.9/site-packages (from packaging>=20.0->spacy<3.5.0,>=3.4.0->en-core-web-md==3.4.0) (3.0.9)\n",
      "Requirement already satisfied: smart-open<6.0.0,>=5.2.1 in /home/szymon/.cache/pypoetry/virtualenvs/spacy-tutorial-yidMBhfH-py3.9/lib/python3.9/site-packages (from pathy>=0.3.5->spacy<3.5.0,>=3.4.0->en-core-web-md==3.4.0) (5.2.1)\n",
      "Requirement already satisfied: typing-extensions>=3.7.4.3 in /home/szymon/.cache/pypoetry/virtualenvs/spacy-tutorial-yidMBhfH-py3.9/lib/python3.9/site-packages (from pydantic!=1.8,!=1.8.1,<1.10.0,>=1.7.4->spacy<3.5.0,>=3.4.0->en-core-web-md==3.4.0) (4.3.0)\n",
      "Requirement already satisfied: urllib3<1.27,>=1.21.1 in /home/szymon/.cache/pypoetry/virtualenvs/spacy-tutorial-yidMBhfH-py3.9/lib/python3.9/site-packages (from requests<3.0.0,>=2.13.0->spacy<3.5.0,>=3.4.0->en-core-web-md==3.4.0) (1.26.12)\n",
      "Requirement already satisfied: certifi>=2017.4.17 in /home/szymon/.cache/pypoetry/virtualenvs/spacy-tutorial-yidMBhfH-py3.9/lib/python3.9/site-packages (from requests<3.0.0,>=2.13.0->spacy<3.5.0,>=3.4.0->en-core-web-md==3.4.0) (2022.6.15)\n",
      "Requirement already satisfied: charset-normalizer<3,>=2 in /home/szymon/.cache/pypoetry/virtualenvs/spacy-tutorial-yidMBhfH-py3.9/lib/python3.9/site-packages (from requests<3.0.0,>=2.13.0->spacy<3.5.0,>=3.4.0->en-core-web-md==3.4.0) (2.1.1)\n",
      "Requirement already satisfied: idna<4,>=2.5 in /home/szymon/.cache/pypoetry/virtualenvs/spacy-tutorial-yidMBhfH-py3.9/lib/python3.9/site-packages (from requests<3.0.0,>=2.13.0->spacy<3.5.0,>=3.4.0->en-core-web-md==3.4.0) (3.3)\n",
      "Requirement already satisfied: blis<0.8.0,>=0.7.8 in /home/szymon/.cache/pypoetry/virtualenvs/spacy-tutorial-yidMBhfH-py3.9/lib/python3.9/site-packages (from thinc<8.2.0,>=8.1.0->spacy<3.5.0,>=3.4.0->en-core-web-md==3.4.0) (0.7.8)\n",
      "Requirement already satisfied: click<9.0.0,>=7.1.1 in /home/szymon/.cache/pypoetry/virtualenvs/spacy-tutorial-yidMBhfH-py3.9/lib/python3.9/site-packages (from typer<0.5.0,>=0.3.0->spacy<3.5.0,>=3.4.0->en-core-web-md==3.4.0) (8.1.3)\n",
      "Requirement already satisfied: MarkupSafe>=2.0 in /home/szymon/.cache/pypoetry/virtualenvs/spacy-tutorial-yidMBhfH-py3.9/lib/python3.9/site-packages (from jinja2->spacy<3.5.0,>=3.4.0->en-core-web-md==3.4.0) (2.1.1)\n",
      "Installing collected packages: en-core-web-md\n",
      "Successfully installed en-core-web-md-3.4.0\n",
      "\u001b[33mWARNING: There was an error checking the latest version of pip.\u001b[0m\u001b[33m\n",
      "\u001b[0m\u001b[38;5;2m✔ Download and installation successful\u001b[0m\n",
      "You can now load the package via spacy.load('en_core_web_md')\n"
     ]
    }
   ],
   "source": [
    "!python -m spacy download en_core_web_md"
   ]
  },
  {
   "cell_type": "code",
   "execution_count": 12,
   "id": "28e4e10e-4b9e-4991-8d8b-8310647d8c26",
   "metadata": {},
   "outputs": [],
   "source": [
    "import spacy"
   ]
  },
  {
   "cell_type": "code",
   "execution_count": 13,
   "id": "6bf01fde-c435-463d-a523-bc25d3ae697c",
   "metadata": {},
   "outputs": [
    {
     "name": "stdout",
     "output_type": "stream",
     "text": [
      "0.8698332283318978\n"
     ]
    }
   ],
   "source": [
    "# Load a larger pipeline with vectors\n",
    "nlp = spacy.load(\"en_core_web_md\")\n",
    "\n",
    "# Compare two documents\n",
    "doc1 = nlp(\"I like fast food\")\n",
    "doc2 = nlp(\"I like pizza\")\n",
    "print(doc1.similarity(doc2))"
   ]
  },
  {
   "cell_type": "code",
   "execution_count": 14,
   "id": "f3f1116e-bdf9-4286-aa8d-55184ee0312d",
   "metadata": {},
   "outputs": [
    {
     "name": "stdout",
     "output_type": "stream",
     "text": [
      "0.685019850730896\n"
     ]
    }
   ],
   "source": [
    "# Compare two tokens\n",
    "doc = nlp(\"I like pizza and pasta\")\n",
    "token1 = doc[2]\n",
    "token2 = doc[4]\n",
    "print(token1.similarity(token2))"
   ]
  },
  {
   "cell_type": "code",
   "execution_count": 15,
   "id": "e774e215-d191-4caf-abb4-0f685c98eb70",
   "metadata": {},
   "outputs": [
    {
     "name": "stdout",
     "output_type": "stream",
     "text": [
      "0.1821369691957915\n"
     ]
    }
   ],
   "source": [
    "# Compare a document with a token\n",
    "doc = nlp(\"I like pizza\")\n",
    "token = nlp(\"soap\")[0]\n",
    "\n",
    "print(doc.similarity(token))"
   ]
  },
  {
   "cell_type": "code",
   "execution_count": 16,
   "id": "f9acb068-faab-4937-892e-5cc785efd3f0",
   "metadata": {},
   "outputs": [
    {
     "name": "stdout",
     "output_type": "stream",
     "text": [
      "0.47190033157126826\n"
     ]
    }
   ],
   "source": [
    "# Compare a span with a document\n",
    "span = nlp(\"I like pizza and pasta\")[2:5]\n",
    "doc = nlp(\"McDonalds sells burgers\")\n",
    "\n",
    "print(span.similarity(doc))"
   ]
  },
  {
   "cell_type": "markdown",
   "id": "cc982a6a-bff8-42d9-8497-62fc1417cd95",
   "metadata": {},
   "source": [
    "**How does spaCy predict similarity?**\n",
    "\n",
    "- Similarity is determined using word vectors\n",
    "- Multi-dimensional meaning representations of words\n",
    "- Generated using an algorithm like Word2Vec and lots of text\n",
    "- Can be added to spaCy's pipelines\n",
    "- Default: cosine similarity, but can be adjusted\n",
    "- `Doc` and `Span` vectors default to average of token vectors\n",
    "- Short phrases are better than long documents with many irrelevant words"
   ]
  },
  {
   "cell_type": "code",
   "execution_count": null,
   "id": "d7b210c1-2440-4ee8-8047-3ee2f1b8d238",
   "metadata": {},
   "outputs": [],
   "source": [
    "doc = nlp(\"I have a banana\")\n",
    "# Access the vector via the token.vector attribute\n",
    "print(doc[3].vector)\n",
    "print(doc[3].vector.shape)"
   ]
  },
  {
   "cell_type": "markdown",
   "id": "d4e77dc5-59cf-471e-98af-1c4e0ff3924b",
   "metadata": {},
   "source": [
    "**Similarity depends on the application context**\n",
    "\n",
    "- Useful for many applications: recommendation systems, flagging duplicates etc.\n",
    "- There's no objective definition of \"similarity\"\n",
    "- Depends on the context and what application needs to do"
   ]
  },
  {
   "cell_type": "code",
   "execution_count": 19,
   "id": "1a5db8ee-cff3-402c-9589-0a1a04f9765f",
   "metadata": {},
   "outputs": [
    {
     "name": "stdout",
     "output_type": "stream",
     "text": [
      "0.9530094042245597\n"
     ]
    }
   ],
   "source": [
    "doc1 = nlp(\"I like cats\")\n",
    "doc2 = nlp(\"I hate cats\")\n",
    "\n",
    "print(doc1.similarity(doc2))"
   ]
  },
  {
   "cell_type": "markdown",
   "id": "3cb45fa4-f180-4a0d-af49-c7ffeb6a89c5",
   "metadata": {},
   "source": [
    "High similarity between the two sentences above is expected, but can be undesired if we are looking for similar sentiment between two sentences."
   ]
  },
  {
   "cell_type": "markdown",
   "id": "b99f13d7-c17e-458c-990a-f7a824a0d158",
   "metadata": {},
   "source": [
    "### Efficient phrase matching"
   ]
  },
  {
   "cell_type": "markdown",
   "id": "ae1df6be-ae39-4d6a-906c-7233fb4e8c59",
   "metadata": {},
   "source": [
    "- `PhraseMatcher` like regular expressions or keyword search – but with access to the tokens!\n",
    "- Takes `Doc` object as patterns\n",
    "- More efficient and faster than the `Matcher`\n",
    "- Great for matching large word lists"
   ]
  },
  {
   "cell_type": "code",
   "execution_count": 20,
   "id": "9228042c-a910-4c35-b9e6-c27f698990af",
   "metadata": {},
   "outputs": [
    {
     "name": "stdout",
     "output_type": "stream",
     "text": [
      "Matched span: Golden Retriever\n"
     ]
    }
   ],
   "source": [
    "from spacy.matcher import PhraseMatcher\n",
    "\n",
    "matcher = PhraseMatcher(nlp.vocab)\n",
    "\n",
    "pattern = nlp(\"Golden Retriever\")\n",
    "matcher.add(\"DOG\", [pattern])\n",
    "doc = nlp(\"I have a Golden Retriever\")\n",
    "\n",
    "# Iterate over the matches\n",
    "for match_id, start, end in matcher(doc):\n",
    "    # Get the matched span\n",
    "    span = doc[start:end]\n",
    "    print(\"Matched span:\", span.text)"
   ]
  },
  {
   "cell_type": "code",
   "execution_count": null,
   "id": "bafd7508-0ef4-47a3-9dea-4f9d88c87384",
   "metadata": {},
   "outputs": [],
   "source": [
    "# Create pattern Doc objects and add them to the matcher\n",
    "# This is the faster version of: [nlp(country) for country in COUNTRIES]\n",
    "patterns = list(nlp.pipe(COUNTRIES))"
   ]
  }
 ],
 "metadata": {
  "jupytext": {
   "formats": "ipynb,auto:percent"
  },
  "kernelspec": {
   "display_name": "Python 3 (ipykernel)",
   "language": "python",
   "name": "python3"
  },
  "language_info": {
   "codemirror_mode": {
    "name": "ipython",
    "version": 3
   },
   "file_extension": ".py",
   "mimetype": "text/x-python",
   "name": "python",
   "nbconvert_exporter": "python",
   "pygments_lexer": "ipython3",
   "version": "3.9.13"
  }
 },
 "nbformat": 4,
 "nbformat_minor": 5
}
